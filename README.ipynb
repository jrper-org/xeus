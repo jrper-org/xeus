{
 "cells": [
  {
   "cell_type": "markdown",
   "id": "61355f60",
   "metadata": {},
   "source": [
    "# An example xeus-cling notebook\n",
    "\n",
    "_This notebook contain C++ code, which will run in the notebook. Python code will _**not**_ work here_\n",
    "\n",
    "\n",
    "## Hello World in Python and in C++\n",
    "By now, you should all know enough about Python scripts that you can write a quick implementation of the \"Hello World!\" program. That is to say, a short script (i.e. program) which just prints the words \"Hello World!\" and exits. This will probably look something like the following:\n",
    "\n",
    "_hello.py_:\n",
    "```python\n",
    "print(\"Hello World!\")\n",
    "```\n",
    "\n",
    "In contrast to Python, in C++ we need to use functionality from outside the core language to print to screen. Like the `import` command in Python, the `#include` preprocessor directive allows us to use functions from standard and third-party libraries in our own code. The raw commands to print look something like the following."
   ]
  },
  {
   "cell_type": "code",
   "execution_count": 5,
   "id": "c2ede2d0-47f9-45c0-bd26-97cd4b5a7c4c",
   "metadata": {},
   "outputs": [
    {
     "name": "stdout",
     "output_type": "stream",
     "text": [
      "Hello World!\n"
     ]
    }
   ],
   "source": [
    "#include <iostream>\n",
    "\n",
    "std::cout << \"Hello World!\\n\";"
   ]
  },
  {
   "cell_type": "markdown",
   "id": "d3ce4209",
   "metadata": {},
   "source": [
    "Note that we _must_ use double quotes (`\"`) rather than single quotes `'` to type in a string, and that every command has to end with a semi-colon (`;`).\n",
    "\n",
    "Unlike Python, it is not enough just to put these commands in a text file to be able to run them from the command line. The code must be compiled into a executable file which will run on the computer directly. Rather than running from the start of the file until the end, an executable jumps into a special function called `main()`, which can then call to other functions if it needs to.\n",
    "\n",
    "A full executable file would look something like\n",
    "\n",
    "_hello.cpp_:\n",
    "\n",
    "```c++\n",
    "#include <iostream>\n",
    "\n",
    "int main() {\n",
    "    std::cout << \"Hello World!\" << std::endl;\n",
    "    return 0;\n",
    "    }\n",
    "```\n",
    "\n",
    "You can find a copy of this file [here](./hello.cpp).\n",
    "\n",
    "\n",
    "## Creating variables\n",
    "\n",
    "Unlike in Python, within"
   ]
  }
 ],
 "metadata": {
  "kernelspec": {
   "display_name": "C++14",
   "language": "C++14",
   "name": "xcpp14"
  },
  "language_info": {
   "codemirror_mode": "text/x-c++src",
   "file_extension": ".cpp",
   "mimetype": "text/x-c++src",
   "name": "c++",
   "version": "14"
  }
 },
 "nbformat": 4,
 "nbformat_minor": 5
}
